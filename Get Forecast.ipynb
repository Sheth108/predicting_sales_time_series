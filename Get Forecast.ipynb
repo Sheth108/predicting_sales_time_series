{
 "cells": [
  {
   "cell_type": "code",
   "execution_count": 269,
   "metadata": {},
   "outputs": [],
   "source": [
    "import sqlalchemy\n",
    "import pandas as pd\n",
    "import pickle as pkl\n",
    "import numpy as np\n",
    "import json\n",
    "\n",
    "from fbprophet import Prophet\n",
    "from sklearn.metrics import mean_squared_error\n",
    "\n",
    "import warnings\n",
    "warnings.filterwarnings('ignore')"
   ]
  },
  {
   "cell_type": "code",
   "execution_count": 270,
   "metadata": {},
   "outputs": [],
   "source": [
    "# get url to create engine\n",
    "hostName = 'project-kojak1.cekiwi9udsce.us-east-2.rds.amazonaws.com'\n",
    "user = 'Rishi'\n",
    "pw = 'password' # incorrect password\n",
    "port = '5432'\n",
    "database = 'dbsales'\n",
    "url = 'postgres://' + user + ':' + pw + '@' + hostName + ':' + port + '/' + database"
   ]
  },
  {
   "cell_type": "code",
   "execution_count": 271,
   "metadata": {},
   "outputs": [],
   "source": [
    "# create engine\n",
    "engine = sqlalchemy.create_engine(url)"
   ]
  },
  {
   "cell_type": "code",
   "execution_count": 272,
   "metadata": {},
   "outputs": [],
   "source": [
    "# filter df based on store and item\n",
    "def getDFofStoreItem(storeNum, itemNum):    \n",
    "    myStore = pd.read_sql_query('SELECT * FROM \"Sales\" WHERE \"store\" = {} AND \"item\" = {}'.format(storeNum, itemNum), \n",
    "                                engine)\n",
    "    myStore.date = pd.to_datetime(myStore.date)\n",
    "    myStore = myStore.reset_index()\n",
    "    myStore = myStore.drop(columns=['store', 'item', 'level_0', 'index'])\n",
    "    myStore = myStore.sort_values('date')\n",
    "    myStore.columns = ['ds', 'y']\n",
    "    \n",
    "    return myStore"
   ]
  },
  {
   "cell_type": "code",
   "execution_count": 273,
   "metadata": {},
   "outputs": [],
   "source": [
    "# find percent error\n",
    "def getPercentError(current, test):\n",
    "    return (current-test)/current"
   ]
  },
  {
   "cell_type": "code",
   "execution_count": 274,
   "metadata": {},
   "outputs": [],
   "source": [
    "# test different train/test splits to make sure models remain consistent\n",
    "def testDF(storeNum, itemNum, trainProportions=[0.5, 0.67, 0.75, 0.9]):\n",
    "    storeItemDF = getDFofStoreItem(storeNum, itemNum)\n",
    "    \n",
    "    rmse = []\n",
    "    for proportion in trainProportions:\n",
    "        num = int(proportion*len(storeItemDF))\n",
    "        train = storeItemDF[:num]\n",
    "        test = storeItemDF[num:]\n",
    "        \n",
    "        prophet = Prophet()\n",
    "        prophet.add_seasonality(name='yearly', period=365, fourier_order=10)\n",
    "        prophet.fit(train)\n",
    "        future = prophet.make_future_dataframe(periods=len(test))\n",
    "        forecast = prophet.predict(future)\n",
    "        rmse.append(np.sqrt(mean_squared_error(test['y'], forecast.yhat[-len(test):])))\n",
    "    \n",
    "    for root in rmse:\n",
    "        for check in rmse:\n",
    "            if abs(getPercentError(root, check)) > 0.2:\n",
    "                return False\n",
    "    return True "
   ]
  },
  {
   "cell_type": "code",
   "execution_count": 305,
   "metadata": {},
   "outputs": [],
   "source": [
    "# create forecast using fbprophet for specified amount of days and return df\n",
    "def getForecastForStoreAndItemPandas(storeNum, itemNum, numDays=30, totalInfo=False, printSummary=True):\n",
    "    df = getDFofStoreItem(storeNum, itemNum)\n",
    "    testValue = testDF(storeNum, itemNum)\n",
    "    prophet = Prophet()\n",
    "    prophet.add_seasonality(name='yearly', period=365, fourier_order=10)\n",
    "    prophet.fit(df)\n",
    "    future = prophet.make_future_dataframe(periods=numDays)\n",
    "    forecast = prophet.predict(future)\n",
    "    \n",
    "    forecast = forecast.rename(columns={'ds':'Date', 'yhat':'Predicted Sales'})\n",
    "    forecast = forecast.set_index('Date')\n",
    "    pred = forecast.iloc[-numDays:]\n",
    "    \n",
    "    if printSummary:   \n",
    "        total = int(pred['Predicted Sales'].sum())\n",
    "        margin = int((pred['yhat_upper'].sum() - pred['yhat_lower'].sum())/2)\n",
    "        mySummary = 'The projected total sales for Item ' + str(itemNum) + ' at Store ' + str(storeNum) + ' for ' + str(numDays) + ' days is about ' + str(total) + ' with a margin of error of ' + str(margin)\n",
    "    \n",
    "    if not testValue:\n",
    "        print('These predictions may not be completely accurate')\n",
    "\n",
    "    if totalInfo and printSummary:\n",
    "        return pred, mySummary\n",
    "    elif totalInfo and not printSummary:\n",
    "        return pred, ''\n",
    "    elif not totalInfo and printSummary:\n",
    "        return pred['Predicted Sales'], mySummary\n",
    "    else:\n",
    "        return pred['Predicted Sales'], ''"
   ]
  },
  {
   "cell_type": "code",
   "execution_count": 306,
   "metadata": {},
   "outputs": [],
   "source": [
    "# create forecast using fbprophet for specified amount of days and return json\n",
    "def getForecastForStoreAndItemJSON(storeNum, itemNum, numDays=30, totalInfo=False, printSummary=True):\n",
    "    if printSummary == True:\n",
    "        df, summary = getForecastForStoreAndItemPandas(storeNum, itemNum, numDays, totalInfo=totalInfo, printSummary=printSummary)\n",
    "        df.index = df.index.astype(str)\n",
    "        salesJSON = df.to_json(orient='index')\n",
    "        return salesJSON, summary\n",
    "    else:\n",
    "        df, blank = getForecastForStoreAndItemPandas(storeNum, itemNum, numDays, totalInfo=totalInfo, printSummary=printSummary)\n",
    "        df.index = df.index.astype(str)\n",
    "        salesJSON = df.to_json(orient='index')\n",
    "        return salesJSON, blank"
   ]
  },
  {
   "cell_type": "code",
   "execution_count": 307,
   "metadata": {},
   "outputs": [],
   "source": [
    "# final function in pipeline - returns final product\n",
    "def getForecast(storeNum, itemNum, numDays=30, totalInfo=False, printSummary=True, JSON=False):\n",
    "    if JSON:\n",
    "        return getForecastForStoreAndItemJSON(storeNum, itemNum, numDays, totalInfo, printSummary)\n",
    "    else:\n",
    "        return getForecastForStoreAndItemPandas(storeNum, itemNum, numDays, totalInfo, printSummary)"
   ]
  },
  {
   "cell_type": "code",
   "execution_count": null,
   "metadata": {},
   "outputs": [],
   "source": [
    "myForecast = getForecast(7, 20, numDays=15, totalInfo=True)"
   ]
  }
 ],
 "metadata": {
  "kernelspec": {
   "display_name": "Python 3",
   "language": "python",
   "name": "python3"
  },
  "language_info": {
   "codemirror_mode": {
    "name": "ipython",
    "version": 3
   },
   "file_extension": ".py",
   "mimetype": "text/x-python",
   "name": "python",
   "nbconvert_exporter": "python",
   "pygments_lexer": "ipython3",
   "version": "3.6.6"
  },
  "toc": {
   "base_numbering": 1,
   "nav_menu": {},
   "number_sections": true,
   "sideBar": true,
   "skip_h1_title": false,
   "title_cell": "Table of Contents",
   "title_sidebar": "Contents",
   "toc_cell": false,
   "toc_position": {},
   "toc_section_display": true,
   "toc_window_display": false
  },
  "varInspector": {
   "cols": {
    "lenName": 16,
    "lenType": 16,
    "lenVar": 40
   },
   "kernels_config": {
    "python": {
     "delete_cmd_postfix": "",
     "delete_cmd_prefix": "del ",
     "library": "var_list.py",
     "varRefreshCmd": "print(var_dic_list())"
    },
    "r": {
     "delete_cmd_postfix": ") ",
     "delete_cmd_prefix": "rm(",
     "library": "var_list.r",
     "varRefreshCmd": "cat(var_dic_list()) "
    }
   },
   "types_to_exclude": [
    "module",
    "function",
    "builtin_function_or_method",
    "instance",
    "_Feature"
   ],
   "window_display": false
  }
 },
 "nbformat": 4,
 "nbformat_minor": 2
}
